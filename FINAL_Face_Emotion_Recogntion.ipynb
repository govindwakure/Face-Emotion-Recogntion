{
  "cells": [
    {
      "cell_type": "markdown",
      "metadata": {
        "id": "view-in-github",
        "colab_type": "text"
      },
      "source": [
        "<a href=\"https://colab.research.google.com/github/govindwakure/Face-Emotion-Recogntion/blob/main/FINAL_Face_Emotion_Recogntion.ipynb\" target=\"_parent\"><img src=\"https://colab.research.google.com/assets/colab-badge.svg\" alt=\"Open In Colab\"/></a>"
      ]
    },
    {
      "cell_type": "markdown",
      "metadata": {
        "id": "tymGrv7DaaqB"
      },
      "source": [
        "# **Live Class Monitoring System(Face Emotion Recognition)**"
      ]
    },
    {
      "cell_type": "markdown",
      "metadata": {
        "id": "2EY514rJaaqL"
      },
      "source": [
        "## **Project Introduction**"
      ]
    },
    {
      "cell_type": "markdown",
      "metadata": {
        "id": "h6PBqO7aaaqM"
      },
      "source": [
        "The Indian education landscape has been undergoing rapid changes for the past 10 years owing to the advancement of web-based learning services, specifically, eLearning platforms. Global E-learning is estimated to witness an 8X over the next 5 years to reach USD 2B in 2021. India is expected to grow with a CAGR of 44% crossing the 10M users mark in 2021. Although the market is growing on a rapid scale, there are major challenges associated with digital learning when compared with brick and mortar classrooms. One of many challenges is how to ensure quality learning for students. Digital platforms might overpower physical classrooms in terms of content quality but when it comes to understanding whether students are able to grasp the content in a live class scenario is yet an open-end challenge. In a physical classroom during a lecturing teacher can see the faces and assess the emotion of the class and tune their lecture accordingly, whether he is going fast or slow. He can identify students who need special attention. Digital classrooms are conducted via video telephony software program (ex- Zoom) where it’s not possible for medium scale class (25-50) to see all students and access the mood. Because of this drawback, students are not focusing on content due to a lack of surveillance. While digital platforms have limitations in terms of physical surveillance but it comes with the power of data and machines which can work for you. It provides data in the form of video, audio, and texts which can be analyzed using deep learning algorithms. Deep learning backed system not only solves the surveillance issue, but it also removes the human bias from the system, and all information is no longer in the teacher’s brain rather translated in numbers that can be analyzed and tracked.\n",
        "\n",
        "We will solve the above-mentioned challenge by applying deep learning algorithms to live video data.The solution to this problem is by recognizing facial emotions."
      ]
    },
    {
      "cell_type": "markdown",
      "metadata": {
        "id": "mOM7ssdEaaqP"
      },
      "source": [
        "## **Importing Libraries**"
      ]
    },
    {
      "cell_type": "markdown",
      "metadata": {
        "id": "lYjE0vFBaaqP"
      },
      "source": [
        "Importing the required python libraries like numpy, seaborn, matplotlib, tensorflow"
      ]
    },
    {
      "cell_type": "raw",
      "metadata": {
        "id": "ifiUQudSaaqQ"
      },
      "source": [
        "Let's install tensrflow first"
      ]
    },
    {
      "cell_type": "code",
      "execution_count": 1,
      "metadata": {
        "colab": {
          "base_uri": "https://localhost:8080/"
        },
        "id": "jvmPgHuSaaqR",
        "outputId": "6529ed0a-3de3-458e-c7bc-f8360eacbddf"
      },
      "outputs": [
        {
          "output_type": "stream",
          "name": "stdout",
          "text": [
            "Requirement already satisfied: tensorflow in /usr/local/lib/python3.7/dist-packages (2.8.0+zzzcolab20220506162203)\n",
            "Requirement already satisfied: libclang>=9.0.1 in /usr/local/lib/python3.7/dist-packages (from tensorflow) (14.0.1)\n",
            "Requirement already satisfied: gast>=0.2.1 in /usr/local/lib/python3.7/dist-packages (from tensorflow) (0.5.3)\n",
            "Requirement already satisfied: wrapt>=1.11.0 in /usr/local/lib/python3.7/dist-packages (from tensorflow) (1.14.1)\n",
            "Requirement already satisfied: h5py>=2.9.0 in /usr/local/lib/python3.7/dist-packages (from tensorflow) (3.1.0)\n",
            "Requirement already satisfied: protobuf>=3.9.2 in /usr/local/lib/python3.7/dist-packages (from tensorflow) (3.17.3)\n",
            "Requirement already satisfied: numpy>=1.20 in /usr/local/lib/python3.7/dist-packages (from tensorflow) (1.21.6)\n",
            "Requirement already satisfied: google-pasta>=0.1.1 in /usr/local/lib/python3.7/dist-packages (from tensorflow) (0.2.0)\n",
            "Requirement already satisfied: astunparse>=1.6.0 in /usr/local/lib/python3.7/dist-packages (from tensorflow) (1.6.3)\n",
            "Requirement already satisfied: six>=1.12.0 in /usr/local/lib/python3.7/dist-packages (from tensorflow) (1.15.0)\n",
            "Requirement already satisfied: grpcio<2.0,>=1.24.3 in /usr/local/lib/python3.7/dist-packages (from tensorflow) (1.46.1)\n",
            "Requirement already satisfied: absl-py>=0.4.0 in /usr/local/lib/python3.7/dist-packages (from tensorflow) (1.0.0)\n",
            "Requirement already satisfied: flatbuffers>=1.12 in /usr/local/lib/python3.7/dist-packages (from tensorflow) (2.0)\n",
            "Requirement already satisfied: typing-extensions>=3.6.6 in /usr/local/lib/python3.7/dist-packages (from tensorflow) (4.2.0)\n",
            "Requirement already satisfied: keras-preprocessing>=1.1.1 in /usr/local/lib/python3.7/dist-packages (from tensorflow) (1.1.2)\n",
            "Requirement already satisfied: termcolor>=1.1.0 in /usr/local/lib/python3.7/dist-packages (from tensorflow) (1.1.0)\n",
            "Requirement already satisfied: keras<2.9,>=2.8.0rc0 in /usr/local/lib/python3.7/dist-packages (from tensorflow) (2.8.0)\n",
            "Requirement already satisfied: tensorflow-io-gcs-filesystem>=0.23.1 in /usr/local/lib/python3.7/dist-packages (from tensorflow) (0.25.0)\n",
            "Requirement already satisfied: tensorboard<2.9,>=2.8 in /usr/local/lib/python3.7/dist-packages (from tensorflow) (2.8.0)\n",
            "Collecting tf-estimator-nightly==2.8.0.dev2021122109\n",
            "  Downloading tf_estimator_nightly-2.8.0.dev2021122109-py2.py3-none-any.whl (462 kB)\n",
            "\u001b[K     |████████████████████████████████| 462 kB 5.5 MB/s \n",
            "\u001b[?25hRequirement already satisfied: setuptools in /usr/local/lib/python3.7/dist-packages (from tensorflow) (57.4.0)\n",
            "Requirement already satisfied: opt-einsum>=2.3.2 in /usr/local/lib/python3.7/dist-packages (from tensorflow) (3.3.0)\n",
            "Requirement already satisfied: wheel<1.0,>=0.23.0 in /usr/local/lib/python3.7/dist-packages (from astunparse>=1.6.0->tensorflow) (0.37.1)\n",
            "Requirement already satisfied: cached-property in /usr/local/lib/python3.7/dist-packages (from h5py>=2.9.0->tensorflow) (1.5.2)\n",
            "Requirement already satisfied: werkzeug>=0.11.15 in /usr/local/lib/python3.7/dist-packages (from tensorboard<2.9,>=2.8->tensorflow) (1.0.1)\n",
            "Requirement already satisfied: google-auth<3,>=1.6.3 in /usr/local/lib/python3.7/dist-packages (from tensorboard<2.9,>=2.8->tensorflow) (1.35.0)\n",
            "Requirement already satisfied: tensorboard-data-server<0.7.0,>=0.6.0 in /usr/local/lib/python3.7/dist-packages (from tensorboard<2.9,>=2.8->tensorflow) (0.6.1)\n",
            "Requirement already satisfied: tensorboard-plugin-wit>=1.6.0 in /usr/local/lib/python3.7/dist-packages (from tensorboard<2.9,>=2.8->tensorflow) (1.8.1)\n",
            "Requirement already satisfied: markdown>=2.6.8 in /usr/local/lib/python3.7/dist-packages (from tensorboard<2.9,>=2.8->tensorflow) (3.3.7)\n",
            "Requirement already satisfied: requests<3,>=2.21.0 in /usr/local/lib/python3.7/dist-packages (from tensorboard<2.9,>=2.8->tensorflow) (2.23.0)\n",
            "Requirement already satisfied: google-auth-oauthlib<0.5,>=0.4.1 in /usr/local/lib/python3.7/dist-packages (from tensorboard<2.9,>=2.8->tensorflow) (0.4.6)\n",
            "Requirement already satisfied: cachetools<5.0,>=2.0.0 in /usr/local/lib/python3.7/dist-packages (from google-auth<3,>=1.6.3->tensorboard<2.9,>=2.8->tensorflow) (4.2.4)\n",
            "Requirement already satisfied: rsa<5,>=3.1.4 in /usr/local/lib/python3.7/dist-packages (from google-auth<3,>=1.6.3->tensorboard<2.9,>=2.8->tensorflow) (4.8)\n",
            "Requirement already satisfied: pyasn1-modules>=0.2.1 in /usr/local/lib/python3.7/dist-packages (from google-auth<3,>=1.6.3->tensorboard<2.9,>=2.8->tensorflow) (0.2.8)\n",
            "Requirement already satisfied: requests-oauthlib>=0.7.0 in /usr/local/lib/python3.7/dist-packages (from google-auth-oauthlib<0.5,>=0.4.1->tensorboard<2.9,>=2.8->tensorflow) (1.3.1)\n",
            "Requirement already satisfied: importlib-metadata>=4.4 in /usr/local/lib/python3.7/dist-packages (from markdown>=2.6.8->tensorboard<2.9,>=2.8->tensorflow) (4.11.3)\n",
            "Requirement already satisfied: zipp>=0.5 in /usr/local/lib/python3.7/dist-packages (from importlib-metadata>=4.4->markdown>=2.6.8->tensorboard<2.9,>=2.8->tensorflow) (3.8.0)\n",
            "Requirement already satisfied: pyasn1<0.5.0,>=0.4.6 in /usr/local/lib/python3.7/dist-packages (from pyasn1-modules>=0.2.1->google-auth<3,>=1.6.3->tensorboard<2.9,>=2.8->tensorflow) (0.4.8)\n",
            "Requirement already satisfied: chardet<4,>=3.0.2 in /usr/local/lib/python3.7/dist-packages (from requests<3,>=2.21.0->tensorboard<2.9,>=2.8->tensorflow) (3.0.4)\n",
            "Requirement already satisfied: certifi>=2017.4.17 in /usr/local/lib/python3.7/dist-packages (from requests<3,>=2.21.0->tensorboard<2.9,>=2.8->tensorflow) (2021.10.8)\n",
            "Requirement already satisfied: urllib3!=1.25.0,!=1.25.1,<1.26,>=1.21.1 in /usr/local/lib/python3.7/dist-packages (from requests<3,>=2.21.0->tensorboard<2.9,>=2.8->tensorflow) (1.24.3)\n",
            "Requirement already satisfied: idna<3,>=2.5 in /usr/local/lib/python3.7/dist-packages (from requests<3,>=2.21.0->tensorboard<2.9,>=2.8->tensorflow) (2.10)\n",
            "Requirement already satisfied: oauthlib>=3.0.0 in /usr/local/lib/python3.7/dist-packages (from requests-oauthlib>=0.7.0->google-auth-oauthlib<0.5,>=0.4.1->tensorboard<2.9,>=2.8->tensorflow) (3.2.0)\n",
            "Installing collected packages: tf-estimator-nightly\n",
            "Successfully installed tf-estimator-nightly-2.8.0.dev2021122109\n"
          ]
        }
      ],
      "source": [
        "!pip install tensorflow"
      ]
    },
    {
      "cell_type": "code",
      "execution_count": 2,
      "metadata": {
        "id": "A6-AIpQXaaqV"
      },
      "outputs": [],
      "source": [
        "# Importing all the required Libraries\n",
        "import itertools\n",
        "import os\n",
        "import cv2\n",
        "import numpy as np\n",
        "import matplotlib.pyplot as plt\n",
        "from time import sleep\n",
        "from tensorflow.keras.preprocessing.image import img_to_array\n",
        "from tensorflow.keras.preprocessing import image\n",
        "from tensorflow import keras\n",
        "from tensorflow.keras.models import Sequential                                                            \n",
        "from tensorflow.keras import layers\n",
        "from keras.models import load_model\n",
        "from tensorflow.keras.layers import Conv2D,MaxPooling2D, Dense, Dropout, Flatten, BatchNormalization,Activation\n",
        "from tensorflow.keras.preprocessing.image import ImageDataGenerator\n",
        "from tensorflow.keras.optimizers import Adam\n",
        "from tensorflow.keras.callbacks import EarlyStopping, ModelCheckpoint, ReduceLROnPlateau\n",
        "from tensorflow.keras.models import load_model\n",
        "from tensorflow.keras import Model\n",
        "from sklearn.metrics import confusion_matrix, classification_report\n",
        "from sklearn.metrics import accuracy_score\n",
        "from sklearn.model_selection import train_test_split\n",
        "from tensorflow.keras.utils import to_categorical\n",
        "#To avoid warnings(Removing annoying Warnings)\n",
        "import warnings                                                                                \n",
        "warnings.filterwarnings('ignore')\n",
        "warnings.simplefilter('ignore')"
      ]
    },
    {
      "cell_type": "markdown",
      "metadata": {
        "id": "0lcBgmTEaaqX"
      },
      "source": [
        "## Dataset Link-  https://www.kaggle.com/msambare/fer2013"
      ]
    },
    {
      "cell_type": "markdown",
      "metadata": {
        "id": "5vazhxaJaaqY"
      },
      "source": [
        "## **Setup the data generators**"
      ]
    },
    {
      "cell_type": "markdown",
      "metadata": {
        "id": "x4aTxfCcaaqZ"
      },
      "source": [
        "Now we will generate training and testing (validation) batches."
      ]
    },
    {
      "cell_type": "code",
      "execution_count": 3,
      "metadata": {
        "colab": {
          "base_uri": "https://localhost:8080/"
        },
        "id": "Z0jSOQmfHSts",
        "outputId": "e0e7906e-5dbe-49a2-b41f-0f275d48cc07"
      },
      "outputs": [
        {
          "output_type": "stream",
          "name": "stdout",
          "text": [
            "Mounted at /content/drive\n"
          ]
        }
      ],
      "source": [
        "from google.colab import drive\n",
        "drive.mount('/content/drive')"
      ]
    },
    {
      "cell_type": "code",
      "execution_count": 3,
      "metadata": {
        "id": "LFAQqBfRIp_F"
      },
      "outputs": [],
      "source": [
        ""
      ]
    },
    {
      "cell_type": "code",
      "execution_count": 4,
      "metadata": {
        "id": "xufFyZx-aaqZ"
      },
      "outputs": [],
      "source": [
        "# Creating Image generators, for all train, validation, and test set\n",
        "training_gen=ImageDataGenerator(rescale=1./255)\n",
        "testing_gen=ImageDataGenerator(rescale=1./255)"
      ]
    },
    {
      "cell_type": "code",
      "execution_count": 5,
      "metadata": {
        "colab": {
          "base_uri": "https://localhost:8080/"
        },
        "id": "aNJQZA6WaaqZ",
        "outputId": "c518c8f7-1083-4987-f795-be0edf007b20"
      },
      "outputs": [
        {
          "output_type": "stream",
          "name": "stdout",
          "text": [
            "Found 21976 images belonging to 7 classes.\n",
            "Found 7178 images belonging to 7 classes.\n"
          ]
        }
      ],
      "source": [
        "#Creating Training Dataset\n",
        "train_gen=training_gen.flow_from_directory(r'/content/drive/MyDrive/Face Emotion Recognition/train',\n",
        "                                           target_size=(48,48),\n",
        "                                           batch_size=32,\n",
        "                                           color_mode='grayscale',\n",
        "                                           class_mode='categorical')\n",
        "# Creating Test Set\n",
        "test_gen = testing_gen.flow_from_directory(r'/content/drive/MyDrive/Face Emotion Recognition/test',\n",
        "                                           target_size=(48,48),  \n",
        "                                           batch_size=32,\n",
        "                                           color_mode='grayscale',\n",
        "                                           class_mode='categorical',\n",
        "                                           shuffle= False)"
      ]
    },
    {
      "cell_type": "markdown",
      "metadata": {
        "id": "MVUVbORNaaqa"
      },
      "source": [
        "- Deep learning models are trained by being fed with batches of data. Keras has a very useful class to automatically feed data from a directory: ImageDataGenerator."
      ]
    },
    {
      "cell_type": "markdown",
      "metadata": {
        "id": "dY-AcZogaaqb"
      },
      "source": [
        "As of now we have imported libraries, got dataset, and created train and test images. "
      ]
    },
    {
      "cell_type": "code",
      "execution_count": 6,
      "metadata": {
        "colab": {
          "base_uri": "https://localhost:8080/"
        },
        "id": "tlPAEIgBaaqb",
        "outputId": "3b7bcbf9-d28b-4802-8de3-2332feb2ff54"
      },
      "outputs": [
        {
          "output_type": "stream",
          "name": "stdout",
          "text": [
            "{'angry': 0, 'disgust': 1, 'fear': 2, 'happy': 3, 'neutral': 4, 'sad': 5, 'surprise': 6}\n"
          ]
        }
      ],
      "source": [
        "print(train_gen.class_indices)"
      ]
    },
    {
      "cell_type": "markdown",
      "metadata": {
        "id": "RhEuTr_eaaqb"
      },
      "source": [
        "## **Data Visualization**"
      ]
    },
    {
      "cell_type": "markdown",
      "metadata": {
        "id": "bHkLWz06aaqc"
      },
      "source": [
        "The dataset consists of 2 folders(both are present in data folder) - training and test All the images of dataset are grayscale images of size 48,48 Both these folders consist of 7 folders each.All these 7 folders contain images of peoples faces with respective emotion. We deleted 2 folders out of 7 which consisted of least numbers of images so that our model can train better on other model and give better accuracy. (0=Angry, 1=Disgust, 2=Fear, 3=Happy, 4=Sad, 5=Surprise, 6=Neutral). The dataset contains approximately 36K images"
      ]
    },
    {
      "cell_type": "markdown",
      "metadata": {
        "id": "D0PBHLHbaaqc"
      },
      "source": [
        "- Dataset is converted  into raw images and splitted in multiple folders which are train and validation folders.\n",
        "- 80% of our images are contained inside the train folder, and the last 20% are inside the validation folder."
      ]
    },
    {
      "cell_type": "code",
      "execution_count": 7,
      "metadata": {
        "colab": {
          "base_uri": "https://localhost:8080/",
          "height": 108
        },
        "id": "VGtUfFI3aaqc",
        "outputId": "2a7285d2-8537-496a-fe79-0143beda2c35"
      },
      "outputs": [
        {
          "output_type": "display_data",
          "data": {
            "text/plain": [
              "<Figure size 2304x144 with 15 Axes>"
            ],
            "image/png": "[encoded data removed]"
          },
          "metadata": {
            "needs_background": "light"
          }
        },
        {
          "output_type": "stream",
          "name": "stdout",
          "text": [
            "neutral    sad    happy    happy    surprise    happy    neutral    neutral    happy    happy    neutral    neutral    fear    happy    neutral    "
          ]
        }
      ],
      "source": [
        "# Extracting next batch to plot it, this batch of photos are selected randomly\n",
        "imgs,lables=next(train_gen) \n",
        "# list of Classes\n",
        "list_of_keys=['angry', 'disgust', 'fear', 'happy', 'neutral', 'sad', 'surprise']                  \n",
        "def plotImages(images_arr):\n",
        "    fig, axes= plt.subplots(1,15,figsize=(32,2))\n",
        "    axes= axes.flatten()\n",
        "    for img, ax in zip(images_arr,axes):\n",
        "      plt.imshow(np.squeeze(img))     #   ax.imshow(img)\n",
        "      ax.axis('off')\n",
        "    plt.tight_layout()\n",
        "    plt.show()\n",
        "plotImages(imgs)\n",
        "# Printing the lables below the respective image\n",
        "for i in lables[:15]:                                                                             \n",
        "    for num, j in enumerate(i):\n",
        "        if j==1:\n",
        "            # Labelling seems to be spot on     \n",
        "            print(list_of_keys[num], end='    ')                                                         \n",
        "num+=1\n"
      ]
    },
    {
      "cell_type": "code",
      "execution_count": 7,
      "metadata": {
        "id": "pbYh7Od_aaqd"
      },
      "outputs": [],
      "source": [
        ""
      ]
    },
    {
      "cell_type": "markdown",
      "metadata": {
        "id": "mvhH-0TDaaqd"
      },
      "source": [
        "## **Building the CNN Model.**"
      ]
    },
    {
      "cell_type": "markdown",
      "metadata": {
        "id": "nlS2G0zzaaqd"
      },
      "source": [
        "We chose to use a Convolutional Neural Network in order to tackle this face recognition problem. Indeed this type of Neural Network (NN) is good for extracting the features of images and is widely used for image analysis subjects like image classification."
      ]
    },
    {
      "cell_type": "markdown",
      "metadata": {
        "id": "Pos-D3uHaaqe"
      },
      "source": [
        "\n",
        "Now let's define the architecture of our CNN:"
      ]
    },
    {
      "cell_type": "markdown",
      "metadata": {
        "id": "688TZmWraaqe"
      },
      "source": [
        ""
      ]
    },
    {
      "cell_type": "code",
      "execution_count": 8,
      "metadata": {
        "colab": {
          "base_uri": "https://localhost:8080/"
        },
        "id": "EECDYOPaaaqf",
        "outputId": "1c4fed0a-a2ea-4b43-9529-9e7678ab598e"
      },
      "outputs": [
        {
          "output_type": "stream",
          "name": "stdout",
          "text": [
            "Model: \"sequential\"\n",
            "_________________________________________________________________\n",
            " Layer (type)                Output Shape              Param #   \n",
            "=================================================================\n",
            " conv2d (Conv2D)             (None, 48, 48, 64)        640       \n",
            "                                                                 \n",
            " batch_normalization (BatchN  (None, 48, 48, 64)       256       \n",
            " ormalization)                                                   \n",
            "                                                                 \n",
            " activation (Activation)     (None, 48, 48, 64)        0         \n",
            "                                                                 \n",
            " max_pooling2d (MaxPooling2D  (None, 24, 24, 64)       0         \n",
            " )                                                               \n",
            "                                                                 \n",
            " dropout (Dropout)           (None, 24, 24, 64)        0         \n",
            "                                                                 \n",
            " conv2d_1 (Conv2D)           (None, 24, 24, 128)       204928    \n",
            "                                                                 \n",
            " batch_normalization_1 (Batc  (None, 24, 24, 128)      512       \n",
            " hNormalization)                                                 \n",
            "                                                                 \n",
            " activation_1 (Activation)   (None, 24, 24, 128)       0         \n",
            "                                                                 \n",
            " max_pooling2d_1 (MaxPooling  (None, 12, 12, 128)      0         \n",
            " 2D)                                                             \n",
            "                                                                 \n",
            " dropout_1 (Dropout)         (None, 12, 12, 128)       0         \n",
            "                                                                 \n",
            " conv2d_2 (Conv2D)           (None, 12, 12, 512)       590336    \n",
            "                                                                 \n",
            " batch_normalization_2 (Batc  (None, 12, 12, 512)      2048      \n",
            " hNormalization)                                                 \n",
            "                                                                 \n",
            " activation_2 (Activation)   (None, 12, 12, 512)       0         \n",
            "                                                                 \n",
            " max_pooling2d_2 (MaxPooling  (None, 6, 6, 512)        0         \n",
            " 2D)                                                             \n",
            "                                                                 \n",
            " dropout_2 (Dropout)         (None, 6, 6, 512)         0         \n",
            "                                                                 \n",
            " conv2d_3 (Conv2D)           (None, 6, 6, 512)         2359808   \n",
            "                                                                 \n",
            " batch_normalization_3 (Batc  (None, 6, 6, 512)        2048      \n",
            " hNormalization)                                                 \n",
            "                                                                 \n",
            " activation_3 (Activation)   (None, 6, 6, 512)         0         \n",
            "                                                                 \n",
            " max_pooling2d_3 (MaxPooling  (None, 3, 3, 512)        0         \n",
            " 2D)                                                             \n",
            "                                                                 \n",
            " dropout_3 (Dropout)         (None, 3, 3, 512)         0         \n",
            "                                                                 \n",
            " flatten (Flatten)           (None, 4608)              0         \n",
            "                                                                 \n",
            " dense (Dense)               (None, 256)               1179904   \n",
            "                                                                 \n",
            " batch_normalization_4 (Batc  (None, 256)              1024      \n",
            " hNormalization)                                                 \n",
            "                                                                 \n",
            " activation_4 (Activation)   (None, 256)               0         \n",
            "                                                                 \n",
            " dropout_4 (Dropout)         (None, 256)               0         \n",
            "                                                                 \n",
            " dense_1 (Dense)             (None, 512)               131584    \n",
            "                                                                 \n",
            " batch_normalization_5 (Batc  (None, 512)              2048      \n",
            " hNormalization)                                                 \n",
            "                                                                 \n",
            " activation_5 (Activation)   (None, 512)               0         \n",
            "                                                                 \n",
            " dropout_5 (Dropout)         (None, 512)               0         \n",
            "                                                                 \n",
            " dense_2 (Dense)             (None, 7)                 3591      \n",
            "                                                                 \n",
            "=================================================================\n",
            "Total params: 4,478,727\n",
            "Trainable params: 4,474,759\n",
            "Non-trainable params: 3,968\n",
            "_________________________________________________________________\n"
          ]
        }
      ],
      "source": [
        "\n",
        "# from keras.optimizers import Adam,SGD,RMSprop\n",
        "#Here we have 7 kind of different emotions thst's why no_of_classes is 7\n",
        "no_of_classes = 7\n",
        "\n",
        "model = Sequential()\n",
        "\n",
        "#1st CNN layer \n",
        "model.add(Conv2D(64,(3,3),padding = 'same',input_shape = (48,48,1)))\n",
        "model.add(BatchNormalization())\n",
        "model.add(Activation('relu'))\n",
        "model.add(MaxPooling2D(pool_size = (2,2)))\n",
        "model.add(Dropout(0.25))\n",
        "\n",
        "#2nd CNN layer\n",
        "model.add(Conv2D(128,(5,5),padding = 'same'))\n",
        "model.add(BatchNormalization())\n",
        "model.add(Activation('relu'))\n",
        "model.add(MaxPooling2D(pool_size = (2,2)))\n",
        "model.add(Dropout (0.25))\n",
        "\n",
        "#3rd CNN layer\n",
        "model.add(Conv2D(512,(3,3),padding = 'same'))\n",
        "model.add(BatchNormalization())\n",
        "model.add(Activation('relu'))\n",
        "model.add(MaxPooling2D(pool_size = (2,2)))\n",
        "model.add(Dropout (0.25))\n",
        "\n",
        "#4th CNN layer\n",
        "model.add(Conv2D(512,(3,3), padding='same'))\n",
        "model.add(BatchNormalization())\n",
        "model.add(Activation('relu'))\n",
        "model.add(MaxPooling2D(pool_size=(2, 2)))\n",
        "model.add(Dropout(0.25))\n",
        "\n",
        "model.add(Flatten())\n",
        "\n",
        "#Fully connected 1st layer\n",
        "model.add(Dense(256))\n",
        "model.add(BatchNormalization())\n",
        "model.add(Activation('relu'))\n",
        "model.add(Dropout(0.25))\n",
        "\n",
        "\n",
        "# Fully connected layer 2nd layer\n",
        "model.add(Dense(512))\n",
        "model.add(BatchNormalization())\n",
        "model.add(Activation('relu'))\n",
        "# To reduce overfitting problem , used Dropout (0.25)\n",
        "model.add(Dropout(0.25))\n",
        "\n",
        "# This i s a multi-class problem statement that's why in  output layer we have used softmax activation function\n",
        "model.add(Dense(no_of_classes, activation='softmax'))\n",
        "\n",
        "\n",
        "\n",
        "opt = Adam(lr = 0.0001)\n",
        "model.compile(optimizer=opt,loss='categorical_crossentropy', metrics=['accuracy'])\n",
        "# Let's see the model summary\n",
        "model.summary()"
      ]
    },
    {
      "cell_type": "markdown",
      "metadata": {
        "id": "rGM5_xdUaaqg"
      },
      "source": [
        "We define our CNN with the following global architecture:\n",
        "\n",
        "*   4 convolutional layers\n",
        "*   2 fully connected layers"
      ]
    },
    {
      "cell_type": "markdown",
      "metadata": {
        "id": "lapKz5sRaaqg"
      },
      "source": [
        "Basic CNN architecture details:\n",
        "\n",
        "- Input layer - Input layer in CNN should contain image data\n",
        "- Convo layer - Convo layer is sometimes called feature extractor layer because features of the image are get extracted within this layer\n",
        "- Pooling layer - Pooling is used to reduce the dimensionality of each features while retaining the most important information. It is used between two convolution layer\n",
        "- Fully CL - Fully connected layer involves weights, biases, and neurons. It connects neurons in one layer to neurons in another layer. It is used to classify images between different category by training and placed before the output layer\n",
        "- Output Layer - Output layer contains the label which is in the form of one-hot encoded"
      ]
    },
    {
      "cell_type": "markdown",
      "metadata": {
        "id": "ggCC1heFaaqh"
      },
      "source": [
        "Also we use some common techniques for each layer\n",
        "- Batch normalization: improves the performance and stability of NNs by providing inputs with zero mean and unit variance.\n",
        "- Dropout: reduces overfitting by randomly not updating the weights of some nodes. This helps prevent the NN from relying on one node in the layer too much."
      ]
    },
    {
      "cell_type": "markdown",
      "metadata": {
        "id": "FOLWdnrwaaqh"
      },
      "source": [
        "## **Train the model**"
      ]
    },
    {
      "cell_type": "markdown",
      "metadata": {
        "id": "-g5ad_K_aaqh"
      },
      "source": [
        "Now it’s time to train the model and evaluate the results."
      ]
    },
    {
      "cell_type": "code",
      "execution_count": 9,
      "metadata": {
        "id": "a2Ol3hs9aaqi"
      },
      "outputs": [],
      "source": [
        "# Adding various Call Backs Like Early stopping to prevent overfitting and Decay Learning Rate to prevent Overshooting\n",
        "checkpoint = ModelCheckpoint('./my_model.h5', monitor='val_acc', verbose=1, save_best_only=True, mode='max')          "
      ]
    },
    {
      "cell_type": "code",
      "execution_count": 10,
      "metadata": {
        "id": "P9Vve_74aaqi"
      },
      "outputs": [],
      "source": [
        "early_stopping=EarlyStopping(monitor='val_loss',\n",
        "                            min_delta=0,\n",
        "                            patience=5,\n",
        "                            verbose=1,\n",
        "                            restore_best_weights=True)"
      ]
    },
    {
      "cell_type": "code",
      "execution_count": 11,
      "metadata": {
        "id": "oC2pw6p5aaqj"
      },
      "outputs": [],
      "source": [
        "decay_lr= ReduceLROnPlateau(monitor='val_loss',\n",
        "                           factor=0.2,\n",
        "                           patience=3,\n",
        "                           verbose=1,\n",
        "                           min_delta=0.0001)"
      ]
    },
    {
      "cell_type": "code",
      "execution_count": 12,
      "metadata": {
        "id": "ycbsiR3Daaqj"
      },
      "outputs": [],
      "source": [
        "callbacks=[early_stopping,checkpoint,decay_lr]\n",
        "\n",
        "model.compile(loss='categorical_crossentropy',\n",
        "              optimizer = Adam(lr=0.001),\n",
        "              metrics=['accuracy'])"
      ]
    },
    {
      "cell_type": "code",
      "execution_count": 13,
      "metadata": {
        "colab": {
          "base_uri": "https://localhost:8080/"
        },
        "id": "LB3fUn-vaaqk",
        "outputId": "7271a53e-5644-465d-b49a-2cdd161338bc"
      },
      "outputs": [
        {
          "output_type": "stream",
          "name": "stdout",
          "text": [
            "Epoch 1/40\n",
            "686/686 [==============================] - ETA: 0s - loss: 1.3999 - accuracy: 0.4414WARNING:tensorflow:Can save best model only with val_acc available, skipping.\n",
            "686/686 [==============================] - 5558s 8s/step - loss: 1.3999 - accuracy: 0.4414 - val_loss: 3.4883 - val_accuracy: 0.3816 - lr: 0.0010\n",
            "Epoch 2/40\n",
            "686/686 [==============================] - ETA: 0s - loss: 1.0578 - accuracy: 0.5873WARNING:tensorflow:Can save best model only with val_acc available, skipping.\n",
            "686/686 [==============================] - 1091s 2s/step - loss: 1.0578 - accuracy: 0.5873 - val_loss: 2.4401 - val_accuracy: 0.4367 - lr: 0.0010\n",
            "Epoch 3/40\n",
            "686/686 [==============================] - ETA: 0s - loss: 0.9657 - accuracy: 0.6267WARNING:tensorflow:Can save best model only with val_acc available, skipping.\n",
            "686/686 [==============================] - 1095s 2s/step - loss: 0.9657 - accuracy: 0.6267 - val_loss: 2.6685 - val_accuracy: 0.4746 - lr: 0.0010\n",
            "Epoch 4/40\n",
            "686/686 [==============================] - ETA: 0s - loss: 0.9088 - accuracy: 0.6484WARNING:tensorflow:Can save best model only with val_acc available, skipping.\n",
            "686/686 [==============================] - 1093s 2s/step - loss: 0.9088 - accuracy: 0.6484 - val_loss: 2.7598 - val_accuracy: 0.4929 - lr: 0.0010\n",
            "Epoch 5/40\n",
            "686/686 [==============================] - ETA: 0s - loss: 0.8623 - accuracy: 0.6693WARNING:tensorflow:Can save best model only with val_acc available, skipping.\n",
            "\n",
            "Epoch 5: ReduceLROnPlateau reducing learning rate to 0.00020000000949949026.\n",
            "686/686 [==============================] - 1095s 2s/step - loss: 0.8623 - accuracy: 0.6693 - val_loss: 2.8525 - val_accuracy: 0.4233 - lr: 0.0010\n",
            "Epoch 6/40\n",
            "686/686 [==============================] - ETA: 0s - loss: 0.7533 - accuracy: 0.7115WARNING:tensorflow:Can save best model only with val_acc available, skipping.\n",
            "686/686 [==============================] - 1092s 2s/step - loss: 0.7533 - accuracy: 0.7115 - val_loss: 2.6232 - val_accuracy: 0.5501 - lr: 2.0000e-04\n",
            "Epoch 7/40\n",
            "686/686 [==============================] - ETA: 0s - loss: 0.7077 - accuracy: 0.7285Restoring model weights from the end of the best epoch: 2.\n",
            "WARNING:tensorflow:Can save best model only with val_acc available, skipping.\n",
            "686/686 [==============================] - 1088s 2s/step - loss: 0.7077 - accuracy: 0.7285 - val_loss: 2.7154 - val_accuracy: 0.5338 - lr: 2.0000e-04\n",
            "Epoch 7: early stopping\n"
          ]
        }
      ],
      "source": [
        "history = model.fit_generator(generator=train_gen,\n",
        "                                steps_per_epoch=train_gen.n//train_gen.batch_size,\n",
        "                                epochs=40,\n",
        "                                validation_data = test_gen,\n",
        "                                validation_steps = test_gen.n//test_gen.batch_size,\n",
        "                                callbacks=callbacks\n",
        "                                )"
      ]
    },
    {
      "cell_type": "markdown",
      "metadata": {
        "id": "09DTQZ8Saaql"
      },
      "source": [
        "- Our best model managed to obtain a  accuracy of approximately 84.9% and val_accuracy of 65.8% on the dataset by running 40 epochs.which is quite good.\n",
        "- At each epoch, Keras checks if our model performed better than the models of the previous epochs."
      ]
    },
    {
      "cell_type": "code",
      "execution_count": 14,
      "metadata": {
        "id": "rrjT0ennaaqm",
        "outputId": "63eb34db-7f1d-4516-d111-79393eee40a5",
        "colab": {
          "base_uri": "https://localhost:8080/"
        }
      },
      "outputs": [
        {
          "output_type": "execute_result",
          "data": {
            "text/plain": [
              "array([[   0,    0,  208,   60,   82,  402,  206],\n",
              "       [   0,    0,   28,    3,    4,   57,   19],\n",
              "       [   0,    0,  221,   43,   58,  334,  368],\n",
              "       [   0,    0,  174, 1118,   71,  204,  207],\n",
              "       [   0,    0,  161,   57,  339,  388,  288],\n",
              "       [   0,    0,  142,   45,  120,  732,  208],\n",
              "       [   0,    0,   47,   22,    8,   24,  730]])"
            ]
          },
          "metadata": {},
          "execution_count": 14
        }
      ],
      "source": [
        "# Predicting For Test Set\n",
        "predictions=model.predict(test_gen)     \n",
        "# Printing Confution Matrix  \n",
        "cm=confusion_matrix(y_pred=np.argmax(predictions, axis=-1), y_true=test_gen.classes)   \n",
        "#Let's print the confusion matrix\n",
        "cm"
      ]
    },
    {
      "cell_type": "code",
      "execution_count": null,
      "metadata": {
        "id": "xJ3LZsAPaaqm"
      },
      "outputs": [],
      "source": [
        "# Accuracy Score of Our Model\n",
        "aoc = accuracy_score(y_pred=np.argmax(predictions, axis=-1),y_true=test_gen.classes)   \n",
        "#Let's print accuracy_score\n",
        "aoc                                                     "
      ]
    },
    {
      "cell_type": "markdown",
      "metadata": {
        "id": "EtmiYIhnaaqn"
      },
      "source": [
        "### **Saving Model**"
      ]
    },
    {
      "cell_type": "code",
      "execution_count": 16,
      "metadata": {
        "id": "x8sqOS7Jaaqn"
      },
      "outputs": [],
      "source": [
        "# Saving Model\n",
        "model.save('Face_Emotion_detection.h5')                                                                                         "
      ]
    },
    {
      "cell_type": "markdown",
      "metadata": {
        "id": "qLxMBiI5aaqo"
      },
      "source": [
        "## **Plotting Accuracy & Loss to analyze the results**"
      ]
    },
    {
      "cell_type": "code",
      "execution_count": 17,
      "metadata": {
        "id": "vB9V-zJKaaqo",
        "outputId": "cd759638-a0fe-49a9-ecfe-cf6013adf144",
        "colab": {
          "base_uri": "https://localhost:8080/",
          "height": 663
        }
      },
      "outputs": [
        {
          "output_type": "display_data",
          "data": {
            "text/plain": [
              "<Figure size 1440x720 with 2 Axes>"
            ],
            "image/png": "[encoded data removed]"
          },
          "metadata": {}
        }
      ],
      "source": [
        "#Plotting Accuracy & Loss\n",
        "plt.style.use('dark_background')\n",
        "\n",
        "plt.figure(figsize=(20,10))\n",
        "plt.subplot(1, 2, 1)\n",
        "plt.suptitle('Optimizer : Adam', fontsize=10)\n",
        "plt.ylabel('Loss', fontsize=16)\n",
        "plt.plot(history.history['loss'], label='Training Loss')\n",
        "plt.plot(history.history['val_loss'], label='Validation Loss')\n",
        "plt.legend(loc='upper right')\n",
        "\n",
        "plt.subplot(1, 2, 2)\n",
        "plt.ylabel('Accuracy', fontsize=16)\n",
        "plt.plot(history.history['accuracy'], label='Training Accuracy')\n",
        "plt.plot(history.history['val_accuracy'], label='Validation Accuracy')\n",
        "plt.legend(loc='lower right')\n",
        "plt.show()"
      ]
    },
    {
      "cell_type": "markdown",
      "metadata": {
        "id": "CVhXdnIPaaqo"
      },
      "source": [
        "- The training gave the accuracy of 81% and val_accuracy of 65%. It seems good. So, I save the model and detection I got from live video is good.\n",
        "- The training loss is slightly higher than the validation loss for the first epochs."
      ]
    },
    {
      "cell_type": "markdown",
      "metadata": {
        "id": "hYaIoyP4aaqp"
      },
      "source": [
        "## **Confusion matrix**"
      ]
    },
    {
      "cell_type": "markdown",
      "metadata": {
        "id": "j7HGXcxiaaqp"
      },
      "source": [
        "Finally we can plot the confusion matrix in order to see how our model classified the images:"
      ]
    },
    {
      "cell_type": "code",
      "execution_count": 18,
      "metadata": {
        "id": "somtEedxaaqp"
      },
      "outputs": [],
      "source": [
        "from sklearn.metrics import confusion_matrix\n",
        "import itertools"
      ]
    },
    {
      "cell_type": "code",
      "execution_count": 19,
      "metadata": {
        "id": "7pd9nI-caaqp",
        "outputId": "dba574cf-b654-4586-da4c-d354ec7f0628",
        "colab": {
          "base_uri": "https://localhost:8080/",
          "height": 744
        }
      },
      "outputs": [
        {
          "output_type": "display_data",
          "data": {
            "text/plain": [
              "<Figure size 432x288 with 0 Axes>"
            ]
          },
          "metadata": {}
        },
        {
          "output_type": "display_data",
          "data": {
            "text/plain": [
              "<Figure size 720x720 with 2 Axes>"
            ],
            "image/png": "[encoded data removed]"
          },
          "metadata": {}
        }
      ],
      "source": [
        "# show the confusion matrix of our predictions\n",
        "\n",
        "# compute predictions\n",
        "predictions = model.predict_generator(generator=test_gen)\n",
        "y_pred = [np.argmax(probas) for probas in predictions]\n",
        "y_test = test_gen.classes\n",
        "class_names = test_gen.class_indices.keys()\n",
        "\n",
        "from sklearn.metrics import confusion_matrix\n",
        "import itertools\n",
        "\n",
        "def plot_confusion_matrix(cm, classes, title='Confusion matrix', cmap=plt.cm.Blues):\n",
        "    cm = cm.astype('float') / cm.sum(axis=1)[:, np.newaxis]\n",
        "    plt.figure(figsize=(10,10))\n",
        "    plt.imshow(cm, interpolation='nearest', cmap=cmap)\n",
        "    plt.title(title)\n",
        "    plt.colorbar()\n",
        "    tick_marks = np.arange(len(classes))\n",
        "    plt.xticks(tick_marks, classes, rotation=45)\n",
        "    plt.yticks(tick_marks, classes)\n",
        "\n",
        "    fmt = '.2f'\n",
        "    thresh = cm.max() / 2.\n",
        "    for i, j in itertools.product(range(cm.shape[0]), range(cm.shape[1])):\n",
        "        plt.text(j, i, format(cm[i, j], fmt),\n",
        "                 horizontalalignment=\"center\",\n",
        "                 color=\"white\" if cm[i, j] > thresh else \"black\")\n",
        "\n",
        "    plt.ylabel('True label')# **Live Class Monitoring System(Face Emotion Recognition)**\n",
        "    plt.xlabel('Predicted label')\n",
        "    plt.tight_layout()\n",
        "    \n",
        "# compute confusion matrix\n",
        "cnf_matrix = confusion_matrix(y_test, y_pred)\n",
        "np.set_printoptions(precision=2)\n",
        "\n",
        "# plot normalized confusion matrix\n",
        "plt.figure()\n",
        "plot_confusion_matrix(cnf_matrix, classes=class_names, title='Normalized confusion matrix')\n",
        "plt.show()"
      ]
    },
    {
      "cell_type": "markdown",
      "metadata": {
        "id": "Cu1UdfRUaaqq"
      },
      "source": [
        "Our model is very good for predicting happy and surprised faces. However it predicts quite poorly feared faces maybe because it confuses them with sad faces."
      ]
    },
    {
      "cell_type": "markdown",
      "metadata": {
        "id": "UuSg3es0aaqq"
      },
      "source": [
        "## **Real-time predictions**"
      ]
    },
    {
      "cell_type": "code",
      "execution_count": null,
      "metadata": {
        "id": "OuYkeZGbaaqq"
      },
      "outputs": [],
      "source": [
        "import tensorflow as tf\n",
        "from tensorflow.keras.models import load_model\n",
        "from time import sleep\n",
        "from tensorflow.keras.preprocessing.image import img_to_array\n",
        "from tensorflow.keras.preprocessing import image\n",
        "import cv2\n",
        "import numpy as np\n",
        "import tensorflow as tf\n",
        "\n",
        "# Face Detection\n",
        "face_classifier = cv2.CascadeClassifier(cv2.data.haarcascades + 'haarcascade_frontalface_default.xml') \n",
        "#Load model\n",
        "classifier =load_model(\"Face_Emotion_detection.h5\")  \n",
        "# Emotion that will be predicted\n",
        "emotion_labels = ['Angry','Disgust','Fear','Happy','Neutral', 'Sad', 'Surprise']  \n",
        " ## Opening webcam\n",
        "cap = cv2.VideoCapture(0) \n",
        "\n",
        "\n",
        "\n",
        "while True:\n",
        "    _, frame = cap.read()\n",
        "    labels = []\n",
        "    gray = cv2.cvtColor(frame,cv2.COLOR_BGR2GRAY)\n",
        "    faces = face_classifier.detectMultiScale(gray)\n",
        "\n",
        "    for (x,y,w,h) in faces:\n",
        "        cv2.rectangle(frame,(x,y),(x+w,y+h),(0,255,255),2)\n",
        "        roi_gray = gray[y:y+h,x:x+w]\n",
        "         ##Face Cropping for prediction\n",
        "        roi_gray = cv2.resize(roi_gray,(48,48),interpolation=cv2.INTER_AREA) \n",
        "\n",
        "\n",
        "\n",
        "        if np.sum([roi_gray])!=0:\n",
        "            roi = roi_gray.astype('float')/255.0\n",
        "            roi = img_to_array(roi)\n",
        "            #reshaping the cropped face image for prediction\n",
        "            roi = np.expand_dims(roi,axis=0) \n",
        "            #Prediction\n",
        "            prediction = classifier.predict(roi)[0]   \n",
        "            label=emotion_labels[prediction.argmax()]\n",
        "            label_position = (x,y)\n",
        "            cv2.putText(frame,label,label_position,cv2.FONT_HERSHEY_SIMPLEX,1,(0,255,0),2)   # Text Adding\n",
        "        else:\n",
        "            cv2.putText(frame,'No Faces',(30,80),cv2.FONT_HERSHEY_SIMPLEX,1,(0,255,0),2)\n",
        "    cv2.imshow('Emotion Detector',frame)\n",
        "    if cv2.waitKey(1) & 0xFF == ord('q'):\n",
        "        break\n",
        "\n",
        "cap.release()\n",
        "cv2.destroyAllWindows()"
      ]
    },
    {
      "cell_type": "markdown",
      "metadata": {
        "id": "dRzIN2kVaaqr"
      },
      "source": [
        "## **Conclusion**\n",
        "\n",
        "- Our model is giving an accuracy of 81% and is robust in that it works well even in a dim light environment.\n",
        "- The application is able to detect face location and predict the right expression while checking it on a local webcam. \n",
        "- The front-end of the model was made using streamlit for webapp and running well on local webapp link.\n",
        "- Finally, we successfully deployed the Streamlit WebApp on Heroku and Streamlit share that runs on a web server.\n",
        "- And I believe that through this model teachers can understand the students' perception during online classes and change the way of teaching if needed by understanding the students’ motive."
      ]
    },
    {
      "cell_type": "code",
      "execution_count": null,
      "metadata": {
        "id": "Qc80KiH4aaqr"
      },
      "outputs": [],
      "source": [
        ""
      ]
    }
  ],
  "metadata": {
    "colab": {
      "name": "FINAL_Face Emotion Recogntion.ipynb",
      "provenance": [],
      "include_colab_link": true
    },
    "kernelspec": {
      "display_name": "Python 3",
      "language": "python",
      "name": "python3"
    },
    "language_info": {
      "codemirror_mode": {
        "name": "ipython",
        "version": 3
      },
      "file_extension": ".py",
      "mimetype": "text/x-python",
      "name": "python",
      "nbconvert_exporter": "python",
      "pygments_lexer": "ipython3",
      "version": "3.8.8"
    }
  },
  "nbformat": 4,
  "nbformat_minor": 0
}